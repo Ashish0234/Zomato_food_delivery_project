{
 "cells": [
  {
   "cell_type": "code",
   "execution_count": 1,
   "id": "5d14840a",
   "metadata": {},
   "outputs": [],
   "source": [
    "import numpy as np\n",
    "import pandas as pd\n",
    "import seaborn as sns\n",
    "import matplotlib.pyplot as plt\n",
    "import warnings\n",
    "warnings.filterwarnings('ignore')"
   ]
  },
  {
   "cell_type": "code",
   "execution_count": 2,
   "id": "c7dfef72",
   "metadata": {},
   "outputs": [],
   "source": [
    "onlinefood_df=pd.read_csv(r'C:\\anubhab\\EDA\\online food dataset\\onlinefoods.csv')"
   ]
  },
  {
   "cell_type": "code",
   "execution_count": 3,
   "id": "b2ff3c34",
   "metadata": {},
   "outputs": [
    {
     "data": {
      "text/html": [
       "<div>\n",
       "<style scoped>\n",
       "    .dataframe tbody tr th:only-of-type {\n",
       "        vertical-align: middle;\n",
       "    }\n",
       "\n",
       "    .dataframe tbody tr th {\n",
       "        vertical-align: top;\n",
       "    }\n",
       "\n",
       "    .dataframe thead th {\n",
       "        text-align: right;\n",
       "    }\n",
       "</style>\n",
       "<table border=\"1\" class=\"dataframe\">\n",
       "  <thead>\n",
       "    <tr style=\"text-align: right;\">\n",
       "      <th></th>\n",
       "      <th>Age</th>\n",
       "      <th>Gender</th>\n",
       "      <th>Marital Status</th>\n",
       "      <th>Occupation</th>\n",
       "      <th>Monthly Income</th>\n",
       "      <th>Educational Qualifications</th>\n",
       "      <th>Family size</th>\n",
       "      <th>latitude</th>\n",
       "      <th>longitude</th>\n",
       "      <th>Pin code</th>\n",
       "      <th>Output</th>\n",
       "      <th>Feedback</th>\n",
       "      <th>Unnamed: 12</th>\n",
       "    </tr>\n",
       "  </thead>\n",
       "  <tbody>\n",
       "    <tr>\n",
       "      <th>0</th>\n",
       "      <td>20</td>\n",
       "      <td>Female</td>\n",
       "      <td>Single</td>\n",
       "      <td>Student</td>\n",
       "      <td>No Income</td>\n",
       "      <td>Post Graduate</td>\n",
       "      <td>4</td>\n",
       "      <td>12.9766</td>\n",
       "      <td>77.5993</td>\n",
       "      <td>560001</td>\n",
       "      <td>Yes</td>\n",
       "      <td>Positive</td>\n",
       "      <td>Yes</td>\n",
       "    </tr>\n",
       "    <tr>\n",
       "      <th>1</th>\n",
       "      <td>24</td>\n",
       "      <td>Female</td>\n",
       "      <td>Single</td>\n",
       "      <td>Student</td>\n",
       "      <td>Below Rs.10000</td>\n",
       "      <td>Graduate</td>\n",
       "      <td>3</td>\n",
       "      <td>12.9770</td>\n",
       "      <td>77.5773</td>\n",
       "      <td>560009</td>\n",
       "      <td>Yes</td>\n",
       "      <td>Positive</td>\n",
       "      <td>Yes</td>\n",
       "    </tr>\n",
       "    <tr>\n",
       "      <th>2</th>\n",
       "      <td>22</td>\n",
       "      <td>Male</td>\n",
       "      <td>Single</td>\n",
       "      <td>Student</td>\n",
       "      <td>Below Rs.10000</td>\n",
       "      <td>Post Graduate</td>\n",
       "      <td>3</td>\n",
       "      <td>12.9551</td>\n",
       "      <td>77.6593</td>\n",
       "      <td>560017</td>\n",
       "      <td>Yes</td>\n",
       "      <td>Negative</td>\n",
       "      <td>Yes</td>\n",
       "    </tr>\n",
       "    <tr>\n",
       "      <th>3</th>\n",
       "      <td>22</td>\n",
       "      <td>Female</td>\n",
       "      <td>Single</td>\n",
       "      <td>Student</td>\n",
       "      <td>No Income</td>\n",
       "      <td>Graduate</td>\n",
       "      <td>6</td>\n",
       "      <td>12.9473</td>\n",
       "      <td>77.5616</td>\n",
       "      <td>560019</td>\n",
       "      <td>Yes</td>\n",
       "      <td>Positive</td>\n",
       "      <td>Yes</td>\n",
       "    </tr>\n",
       "    <tr>\n",
       "      <th>4</th>\n",
       "      <td>22</td>\n",
       "      <td>Male</td>\n",
       "      <td>Single</td>\n",
       "      <td>Student</td>\n",
       "      <td>Below Rs.10000</td>\n",
       "      <td>Post Graduate</td>\n",
       "      <td>4</td>\n",
       "      <td>12.9850</td>\n",
       "      <td>77.5533</td>\n",
       "      <td>560010</td>\n",
       "      <td>Yes</td>\n",
       "      <td>Positive</td>\n",
       "      <td>Yes</td>\n",
       "    </tr>\n",
       "    <tr>\n",
       "      <th>...</th>\n",
       "      <td>...</td>\n",
       "      <td>...</td>\n",
       "      <td>...</td>\n",
       "      <td>...</td>\n",
       "      <td>...</td>\n",
       "      <td>...</td>\n",
       "      <td>...</td>\n",
       "      <td>...</td>\n",
       "      <td>...</td>\n",
       "      <td>...</td>\n",
       "      <td>...</td>\n",
       "      <td>...</td>\n",
       "      <td>...</td>\n",
       "    </tr>\n",
       "    <tr>\n",
       "      <th>383</th>\n",
       "      <td>23</td>\n",
       "      <td>Female</td>\n",
       "      <td>Single</td>\n",
       "      <td>Student</td>\n",
       "      <td>No Income</td>\n",
       "      <td>Post Graduate</td>\n",
       "      <td>2</td>\n",
       "      <td>12.9766</td>\n",
       "      <td>77.5993</td>\n",
       "      <td>560001</td>\n",
       "      <td>Yes</td>\n",
       "      <td>Positive</td>\n",
       "      <td>Yes</td>\n",
       "    </tr>\n",
       "    <tr>\n",
       "      <th>384</th>\n",
       "      <td>23</td>\n",
       "      <td>Female</td>\n",
       "      <td>Single</td>\n",
       "      <td>Student</td>\n",
       "      <td>No Income</td>\n",
       "      <td>Post Graduate</td>\n",
       "      <td>4</td>\n",
       "      <td>12.9854</td>\n",
       "      <td>77.7081</td>\n",
       "      <td>560048</td>\n",
       "      <td>Yes</td>\n",
       "      <td>Positive</td>\n",
       "      <td>Yes</td>\n",
       "    </tr>\n",
       "    <tr>\n",
       "      <th>385</th>\n",
       "      <td>22</td>\n",
       "      <td>Female</td>\n",
       "      <td>Single</td>\n",
       "      <td>Student</td>\n",
       "      <td>No Income</td>\n",
       "      <td>Post Graduate</td>\n",
       "      <td>5</td>\n",
       "      <td>12.9850</td>\n",
       "      <td>77.5533</td>\n",
       "      <td>560010</td>\n",
       "      <td>Yes</td>\n",
       "      <td>Positive</td>\n",
       "      <td>Yes</td>\n",
       "    </tr>\n",
       "    <tr>\n",
       "      <th>386</th>\n",
       "      <td>23</td>\n",
       "      <td>Male</td>\n",
       "      <td>Single</td>\n",
       "      <td>Student</td>\n",
       "      <td>Below Rs.10000</td>\n",
       "      <td>Post Graduate</td>\n",
       "      <td>2</td>\n",
       "      <td>12.9770</td>\n",
       "      <td>77.5773</td>\n",
       "      <td>560009</td>\n",
       "      <td>Yes</td>\n",
       "      <td>Positive</td>\n",
       "      <td>Yes</td>\n",
       "    </tr>\n",
       "    <tr>\n",
       "      <th>387</th>\n",
       "      <td>23</td>\n",
       "      <td>Male</td>\n",
       "      <td>Single</td>\n",
       "      <td>Student</td>\n",
       "      <td>No Income</td>\n",
       "      <td>Post Graduate</td>\n",
       "      <td>5</td>\n",
       "      <td>12.8988</td>\n",
       "      <td>77.5764</td>\n",
       "      <td>560078</td>\n",
       "      <td>Yes</td>\n",
       "      <td>Positive</td>\n",
       "      <td>Yes</td>\n",
       "    </tr>\n",
       "  </tbody>\n",
       "</table>\n",
       "<p>388 rows × 13 columns</p>\n",
       "</div>"
      ],
      "text/plain": [
       "     Age  Gender Marital Status Occupation  Monthly Income  \\\n",
       "0     20  Female         Single    Student       No Income   \n",
       "1     24  Female         Single    Student  Below Rs.10000   \n",
       "2     22    Male         Single    Student  Below Rs.10000   \n",
       "3     22  Female         Single    Student       No Income   \n",
       "4     22    Male         Single    Student  Below Rs.10000   \n",
       "..   ...     ...            ...        ...             ...   \n",
       "383   23  Female         Single    Student       No Income   \n",
       "384   23  Female         Single    Student       No Income   \n",
       "385   22  Female         Single    Student       No Income   \n",
       "386   23    Male         Single    Student  Below Rs.10000   \n",
       "387   23    Male         Single    Student       No Income   \n",
       "\n",
       "    Educational Qualifications  Family size  latitude  longitude  Pin code  \\\n",
       "0                Post Graduate            4   12.9766    77.5993    560001   \n",
       "1                     Graduate            3   12.9770    77.5773    560009   \n",
       "2                Post Graduate            3   12.9551    77.6593    560017   \n",
       "3                     Graduate            6   12.9473    77.5616    560019   \n",
       "4                Post Graduate            4   12.9850    77.5533    560010   \n",
       "..                         ...          ...       ...        ...       ...   \n",
       "383              Post Graduate            2   12.9766    77.5993    560001   \n",
       "384              Post Graduate            4   12.9854    77.7081    560048   \n",
       "385              Post Graduate            5   12.9850    77.5533    560010   \n",
       "386              Post Graduate            2   12.9770    77.5773    560009   \n",
       "387              Post Graduate            5   12.8988    77.5764    560078   \n",
       "\n",
       "    Output   Feedback Unnamed: 12  \n",
       "0      Yes   Positive         Yes  \n",
       "1      Yes   Positive         Yes  \n",
       "2      Yes  Negative          Yes  \n",
       "3      Yes   Positive         Yes  \n",
       "4      Yes   Positive         Yes  \n",
       "..     ...        ...         ...  \n",
       "383    Yes   Positive         Yes  \n",
       "384    Yes   Positive         Yes  \n",
       "385    Yes   Positive         Yes  \n",
       "386    Yes   Positive         Yes  \n",
       "387    Yes   Positive         Yes  \n",
       "\n",
       "[388 rows x 13 columns]"
      ]
     },
     "execution_count": 3,
     "metadata": {},
     "output_type": "execute_result"
    }
   ],
   "source": [
    "onlinefood_df"
   ]
  },
  {
   "cell_type": "code",
   "execution_count": 4,
   "id": "677bf19e",
   "metadata": {},
   "outputs": [
    {
     "data": {
      "text/html": [
       "<div>\n",
       "<style scoped>\n",
       "    .dataframe tbody tr th:only-of-type {\n",
       "        vertical-align: middle;\n",
       "    }\n",
       "\n",
       "    .dataframe tbody tr th {\n",
       "        vertical-align: top;\n",
       "    }\n",
       "\n",
       "    .dataframe thead th {\n",
       "        text-align: right;\n",
       "    }\n",
       "</style>\n",
       "<table border=\"1\" class=\"dataframe\">\n",
       "  <thead>\n",
       "    <tr style=\"text-align: right;\">\n",
       "      <th></th>\n",
       "      <th>0</th>\n",
       "      <th>1</th>\n",
       "      <th>2</th>\n",
       "      <th>3</th>\n",
       "      <th>4</th>\n",
       "    </tr>\n",
       "  </thead>\n",
       "  <tbody>\n",
       "    <tr>\n",
       "      <th>Age</th>\n",
       "      <td>20</td>\n",
       "      <td>24</td>\n",
       "      <td>22</td>\n",
       "      <td>22</td>\n",
       "      <td>22</td>\n",
       "    </tr>\n",
       "    <tr>\n",
       "      <th>Gender</th>\n",
       "      <td>Female</td>\n",
       "      <td>Female</td>\n",
       "      <td>Male</td>\n",
       "      <td>Female</td>\n",
       "      <td>Male</td>\n",
       "    </tr>\n",
       "    <tr>\n",
       "      <th>Marital Status</th>\n",
       "      <td>Single</td>\n",
       "      <td>Single</td>\n",
       "      <td>Single</td>\n",
       "      <td>Single</td>\n",
       "      <td>Single</td>\n",
       "    </tr>\n",
       "    <tr>\n",
       "      <th>Occupation</th>\n",
       "      <td>Student</td>\n",
       "      <td>Student</td>\n",
       "      <td>Student</td>\n",
       "      <td>Student</td>\n",
       "      <td>Student</td>\n",
       "    </tr>\n",
       "    <tr>\n",
       "      <th>Monthly Income</th>\n",
       "      <td>No Income</td>\n",
       "      <td>Below Rs.10000</td>\n",
       "      <td>Below Rs.10000</td>\n",
       "      <td>No Income</td>\n",
       "      <td>Below Rs.10000</td>\n",
       "    </tr>\n",
       "    <tr>\n",
       "      <th>Educational Qualifications</th>\n",
       "      <td>Post Graduate</td>\n",
       "      <td>Graduate</td>\n",
       "      <td>Post Graduate</td>\n",
       "      <td>Graduate</td>\n",
       "      <td>Post Graduate</td>\n",
       "    </tr>\n",
       "    <tr>\n",
       "      <th>Family size</th>\n",
       "      <td>4</td>\n",
       "      <td>3</td>\n",
       "      <td>3</td>\n",
       "      <td>6</td>\n",
       "      <td>4</td>\n",
       "    </tr>\n",
       "    <tr>\n",
       "      <th>latitude</th>\n",
       "      <td>12.9766</td>\n",
       "      <td>12.977</td>\n",
       "      <td>12.9551</td>\n",
       "      <td>12.9473</td>\n",
       "      <td>12.985</td>\n",
       "    </tr>\n",
       "    <tr>\n",
       "      <th>longitude</th>\n",
       "      <td>77.5993</td>\n",
       "      <td>77.5773</td>\n",
       "      <td>77.6593</td>\n",
       "      <td>77.5616</td>\n",
       "      <td>77.5533</td>\n",
       "    </tr>\n",
       "    <tr>\n",
       "      <th>Pin code</th>\n",
       "      <td>560001</td>\n",
       "      <td>560009</td>\n",
       "      <td>560017</td>\n",
       "      <td>560019</td>\n",
       "      <td>560010</td>\n",
       "    </tr>\n",
       "    <tr>\n",
       "      <th>Output</th>\n",
       "      <td>Yes</td>\n",
       "      <td>Yes</td>\n",
       "      <td>Yes</td>\n",
       "      <td>Yes</td>\n",
       "      <td>Yes</td>\n",
       "    </tr>\n",
       "    <tr>\n",
       "      <th>Feedback</th>\n",
       "      <td>Positive</td>\n",
       "      <td>Positive</td>\n",
       "      <td>Negative</td>\n",
       "      <td>Positive</td>\n",
       "      <td>Positive</td>\n",
       "    </tr>\n",
       "    <tr>\n",
       "      <th>Unnamed: 12</th>\n",
       "      <td>Yes</td>\n",
       "      <td>Yes</td>\n",
       "      <td>Yes</td>\n",
       "      <td>Yes</td>\n",
       "      <td>Yes</td>\n",
       "    </tr>\n",
       "  </tbody>\n",
       "</table>\n",
       "</div>"
      ],
      "text/plain": [
       "                                        0               1               2  \\\n",
       "Age                                    20              24              22   \n",
       "Gender                             Female          Female            Male   \n",
       "Marital Status                     Single          Single          Single   \n",
       "Occupation                        Student         Student         Student   \n",
       "Monthly Income                  No Income  Below Rs.10000  Below Rs.10000   \n",
       "Educational Qualifications  Post Graduate        Graduate   Post Graduate   \n",
       "Family size                             4               3               3   \n",
       "latitude                          12.9766          12.977         12.9551   \n",
       "longitude                         77.5993         77.5773         77.6593   \n",
       "Pin code                           560001          560009          560017   \n",
       "Output                                Yes             Yes             Yes   \n",
       "Feedback                         Positive        Positive       Negative    \n",
       "Unnamed: 12                           Yes             Yes             Yes   \n",
       "\n",
       "                                    3               4  \n",
       "Age                                22              22  \n",
       "Gender                         Female            Male  \n",
       "Marital Status                 Single          Single  \n",
       "Occupation                    Student         Student  \n",
       "Monthly Income              No Income  Below Rs.10000  \n",
       "Educational Qualifications   Graduate   Post Graduate  \n",
       "Family size                         6               4  \n",
       "latitude                      12.9473          12.985  \n",
       "longitude                     77.5616         77.5533  \n",
       "Pin code                       560019          560010  \n",
       "Output                            Yes             Yes  \n",
       "Feedback                     Positive        Positive  \n",
       "Unnamed: 12                       Yes             Yes  "
      ]
     },
     "execution_count": 4,
     "metadata": {},
     "output_type": "execute_result"
    }
   ],
   "source": [
    "onlinefood_df.head().T"
   ]
  },
  {
   "cell_type": "code",
   "execution_count": 5,
   "id": "18bd5142",
   "metadata": {},
   "outputs": [
    {
     "data": {
      "text/plain": [
       "Index(['Age', 'Gender', 'Marital Status', 'Occupation', 'Monthly Income',\n",
       "       'Educational Qualifications', 'Family size', 'latitude', 'longitude',\n",
       "       'Pin code', 'Output', 'Feedback', 'Unnamed: 12'],\n",
       "      dtype='object')"
      ]
     },
     "execution_count": 5,
     "metadata": {},
     "output_type": "execute_result"
    }
   ],
   "source": [
    "onlinefood_df.columns"
   ]
  },
  {
   "cell_type": "code",
   "execution_count": 6,
   "id": "84acef3d",
   "metadata": {},
   "outputs": [
    {
     "data": {
      "text/plain": [
       "(388, 13)"
      ]
     },
     "execution_count": 6,
     "metadata": {},
     "output_type": "execute_result"
    }
   ],
   "source": [
    "onlinefood_df.shape"
   ]
  },
  {
   "cell_type": "code",
   "execution_count": 7,
   "id": "708e35ec",
   "metadata": {},
   "outputs": [
    {
     "data": {
      "text/plain": [
       "<bound method DataFrame.info of      Age  Gender Marital Status Occupation  Monthly Income  \\\n",
       "0     20  Female         Single    Student       No Income   \n",
       "1     24  Female         Single    Student  Below Rs.10000   \n",
       "2     22    Male         Single    Student  Below Rs.10000   \n",
       "3     22  Female         Single    Student       No Income   \n",
       "4     22    Male         Single    Student  Below Rs.10000   \n",
       "..   ...     ...            ...        ...             ...   \n",
       "383   23  Female         Single    Student       No Income   \n",
       "384   23  Female         Single    Student       No Income   \n",
       "385   22  Female         Single    Student       No Income   \n",
       "386   23    Male         Single    Student  Below Rs.10000   \n",
       "387   23    Male         Single    Student       No Income   \n",
       "\n",
       "    Educational Qualifications  Family size  latitude  longitude  Pin code  \\\n",
       "0                Post Graduate            4   12.9766    77.5993    560001   \n",
       "1                     Graduate            3   12.9770    77.5773    560009   \n",
       "2                Post Graduate            3   12.9551    77.6593    560017   \n",
       "3                     Graduate            6   12.9473    77.5616    560019   \n",
       "4                Post Graduate            4   12.9850    77.5533    560010   \n",
       "..                         ...          ...       ...        ...       ...   \n",
       "383              Post Graduate            2   12.9766    77.5993    560001   \n",
       "384              Post Graduate            4   12.9854    77.7081    560048   \n",
       "385              Post Graduate            5   12.9850    77.5533    560010   \n",
       "386              Post Graduate            2   12.9770    77.5773    560009   \n",
       "387              Post Graduate            5   12.8988    77.5764    560078   \n",
       "\n",
       "    Output   Feedback Unnamed: 12  \n",
       "0      Yes   Positive         Yes  \n",
       "1      Yes   Positive         Yes  \n",
       "2      Yes  Negative          Yes  \n",
       "3      Yes   Positive         Yes  \n",
       "4      Yes   Positive         Yes  \n",
       "..     ...        ...         ...  \n",
       "383    Yes   Positive         Yes  \n",
       "384    Yes   Positive         Yes  \n",
       "385    Yes   Positive         Yes  \n",
       "386    Yes   Positive         Yes  \n",
       "387    Yes   Positive         Yes  \n",
       "\n",
       "[388 rows x 13 columns]>"
      ]
     },
     "execution_count": 7,
     "metadata": {},
     "output_type": "execute_result"
    }
   ],
   "source": [
    "onlinefood_df.info"
   ]
  },
  {
   "cell_type": "code",
   "execution_count": 8,
   "id": "599a2130",
   "metadata": {},
   "outputs": [
    {
     "data": {
      "text/plain": [
       "Age                           285\n",
       "Gender                        285\n",
       "Marital Status                285\n",
       "Occupation                    285\n",
       "Monthly Income                285\n",
       "Educational Qualifications    285\n",
       "Family size                   285\n",
       "latitude                      285\n",
       "longitude                     285\n",
       "Pin code                      285\n",
       "Output                        285\n",
       "Feedback                      285\n",
       "Unnamed: 12                   285\n",
       "dtype: int64"
      ]
     },
     "execution_count": 8,
     "metadata": {},
     "output_type": "execute_result"
    }
   ],
   "source": [
    "onlinefood_df=onlinefood_df.drop_duplicates()\n",
    "onlinefood_df.count()"
   ]
  },
  {
   "cell_type": "code",
   "execution_count": 9,
   "id": "101df8c1",
   "metadata": {},
   "outputs": [
    {
     "data": {
      "text/plain": [
       "Age                           0\n",
       "Gender                        0\n",
       "Marital Status                0\n",
       "Occupation                    0\n",
       "Monthly Income                0\n",
       "Educational Qualifications    0\n",
       "Family size                   0\n",
       "latitude                      0\n",
       "longitude                     0\n",
       "Pin code                      0\n",
       "Output                        0\n",
       "Feedback                      0\n",
       "Unnamed: 12                   0\n",
       "dtype: int64"
      ]
     },
     "execution_count": 9,
     "metadata": {},
     "output_type": "execute_result"
    }
   ],
   "source": [
    "onlinefood_df.isnull().sum()"
   ]
  },
  {
   "cell_type": "code",
   "execution_count": 67,
   "id": "4b69e2b2",
   "metadata": {},
   "outputs": [
    {
     "data": {
      "text/plain": [
       "(285, 13)"
      ]
     },
     "execution_count": 67,
     "metadata": {},
     "output_type": "execute_result"
    }
   ],
   "source": [
    "onlinefood_df.shape"
   ]
  },
  {
   "cell_type": "code",
   "execution_count": 10,
   "id": "9fec5387",
   "metadata": {},
   "outputs": [
    {
     "data": {
      "text/html": [
       "<div>\n",
       "<style scoped>\n",
       "    .dataframe tbody tr th:only-of-type {\n",
       "        vertical-align: middle;\n",
       "    }\n",
       "\n",
       "    .dataframe tbody tr th {\n",
       "        vertical-align: top;\n",
       "    }\n",
       "\n",
       "    .dataframe thead th {\n",
       "        text-align: right;\n",
       "    }\n",
       "</style>\n",
       "<table border=\"1\" class=\"dataframe\">\n",
       "  <thead>\n",
       "    <tr style=\"text-align: right;\">\n",
       "      <th></th>\n",
       "      <th>Age</th>\n",
       "      <th>Gender</th>\n",
       "      <th>Marital Status</th>\n",
       "      <th>Occupation</th>\n",
       "      <th>Monthly Income</th>\n",
       "      <th>Educational Qualifications</th>\n",
       "      <th>Family size</th>\n",
       "      <th>latitude</th>\n",
       "      <th>longitude</th>\n",
       "      <th>Pin code</th>\n",
       "      <th>Output</th>\n",
       "      <th>Feedback</th>\n",
       "      <th>Unnamed: 12</th>\n",
       "    </tr>\n",
       "  </thead>\n",
       "  <tbody>\n",
       "    <tr>\n",
       "      <th>175</th>\n",
       "      <td>23</td>\n",
       "      <td>Female</td>\n",
       "      <td>Single</td>\n",
       "      <td>Employee</td>\n",
       "      <td>10001 to 25000</td>\n",
       "      <td>Graduate</td>\n",
       "      <td>6</td>\n",
       "      <td>12.9551</td>\n",
       "      <td>77.6593</td>\n",
       "      <td>560017</td>\n",
       "      <td>Yes</td>\n",
       "      <td>Positive</td>\n",
       "      <td>Yes</td>\n",
       "    </tr>\n",
       "    <tr>\n",
       "      <th>119</th>\n",
       "      <td>25</td>\n",
       "      <td>Male</td>\n",
       "      <td>Single</td>\n",
       "      <td>Employee</td>\n",
       "      <td>25001 to 50000</td>\n",
       "      <td>Graduate</td>\n",
       "      <td>3</td>\n",
       "      <td>12.9766</td>\n",
       "      <td>77.5993</td>\n",
       "      <td>560001</td>\n",
       "      <td>Yes</td>\n",
       "      <td>Positive</td>\n",
       "      <td>Yes</td>\n",
       "    </tr>\n",
       "    <tr>\n",
       "      <th>29</th>\n",
       "      <td>22</td>\n",
       "      <td>Male</td>\n",
       "      <td>Single</td>\n",
       "      <td>Student</td>\n",
       "      <td>Below Rs.10000</td>\n",
       "      <td>Post Graduate</td>\n",
       "      <td>4</td>\n",
       "      <td>13.0019</td>\n",
       "      <td>77.5713</td>\n",
       "      <td>560003</td>\n",
       "      <td>Yes</td>\n",
       "      <td>Positive</td>\n",
       "      <td>Yes</td>\n",
       "    </tr>\n",
       "    <tr>\n",
       "      <th>51</th>\n",
       "      <td>23</td>\n",
       "      <td>Female</td>\n",
       "      <td>Single</td>\n",
       "      <td>Student</td>\n",
       "      <td>No Income</td>\n",
       "      <td>Post Graduate</td>\n",
       "      <td>2</td>\n",
       "      <td>12.9770</td>\n",
       "      <td>77.5773</td>\n",
       "      <td>560009</td>\n",
       "      <td>Yes</td>\n",
       "      <td>Positive</td>\n",
       "      <td>Yes</td>\n",
       "    </tr>\n",
       "    <tr>\n",
       "      <th>276</th>\n",
       "      <td>24</td>\n",
       "      <td>Male</td>\n",
       "      <td>Married</td>\n",
       "      <td>Employee</td>\n",
       "      <td>More than 50000</td>\n",
       "      <td>Post Graduate</td>\n",
       "      <td>3</td>\n",
       "      <td>12.9515</td>\n",
       "      <td>77.4921</td>\n",
       "      <td>560056</td>\n",
       "      <td>Yes</td>\n",
       "      <td>Positive</td>\n",
       "      <td>Yes</td>\n",
       "    </tr>\n",
       "    <tr>\n",
       "      <th>220</th>\n",
       "      <td>21</td>\n",
       "      <td>Female</td>\n",
       "      <td>Single</td>\n",
       "      <td>Student</td>\n",
       "      <td>No Income</td>\n",
       "      <td>Post Graduate</td>\n",
       "      <td>1</td>\n",
       "      <td>12.9217</td>\n",
       "      <td>77.5936</td>\n",
       "      <td>560041</td>\n",
       "      <td>Yes</td>\n",
       "      <td>Positive</td>\n",
       "      <td>Yes</td>\n",
       "    </tr>\n",
       "    <tr>\n",
       "      <th>342</th>\n",
       "      <td>22</td>\n",
       "      <td>Male</td>\n",
       "      <td>Married</td>\n",
       "      <td>Self Employeed</td>\n",
       "      <td>10001 to 25000</td>\n",
       "      <td>School</td>\n",
       "      <td>3</td>\n",
       "      <td>12.9820</td>\n",
       "      <td>77.6256</td>\n",
       "      <td>560008</td>\n",
       "      <td>Yes</td>\n",
       "      <td>Negative</td>\n",
       "      <td>Yes</td>\n",
       "    </tr>\n",
       "    <tr>\n",
       "      <th>174</th>\n",
       "      <td>24</td>\n",
       "      <td>Male</td>\n",
       "      <td>Single</td>\n",
       "      <td>Employee</td>\n",
       "      <td>Below Rs.10000</td>\n",
       "      <td>Graduate</td>\n",
       "      <td>2</td>\n",
       "      <td>12.9551</td>\n",
       "      <td>77.6593</td>\n",
       "      <td>560017</td>\n",
       "      <td>Yes</td>\n",
       "      <td>Positive</td>\n",
       "      <td>Yes</td>\n",
       "    </tr>\n",
       "    <tr>\n",
       "      <th>193</th>\n",
       "      <td>26</td>\n",
       "      <td>Male</td>\n",
       "      <td>Single</td>\n",
       "      <td>Employee</td>\n",
       "      <td>25001 to 50000</td>\n",
       "      <td>Graduate</td>\n",
       "      <td>2</td>\n",
       "      <td>12.9343</td>\n",
       "      <td>77.6044</td>\n",
       "      <td>560029</td>\n",
       "      <td>Yes</td>\n",
       "      <td>Positive</td>\n",
       "      <td>Yes</td>\n",
       "    </tr>\n",
       "    <tr>\n",
       "      <th>61</th>\n",
       "      <td>22</td>\n",
       "      <td>Male</td>\n",
       "      <td>Single</td>\n",
       "      <td>Student</td>\n",
       "      <td>No Income</td>\n",
       "      <td>Post Graduate</td>\n",
       "      <td>3</td>\n",
       "      <td>12.8845</td>\n",
       "      <td>77.6036</td>\n",
       "      <td>560076</td>\n",
       "      <td>Yes</td>\n",
       "      <td>Positive</td>\n",
       "      <td>Yes</td>\n",
       "    </tr>\n",
       "  </tbody>\n",
       "</table>\n",
       "</div>"
      ],
      "text/plain": [
       "     Age  Gender Marital Status      Occupation   Monthly Income  \\\n",
       "175   23  Female         Single        Employee   10001 to 25000   \n",
       "119   25    Male         Single        Employee   25001 to 50000   \n",
       "29    22    Male         Single         Student   Below Rs.10000   \n",
       "51    23  Female         Single         Student        No Income   \n",
       "276   24    Male        Married        Employee  More than 50000   \n",
       "220   21  Female         Single         Student        No Income   \n",
       "342   22    Male        Married  Self Employeed   10001 to 25000   \n",
       "174   24    Male         Single        Employee   Below Rs.10000   \n",
       "193   26    Male         Single        Employee   25001 to 50000   \n",
       "61    22    Male         Single         Student        No Income   \n",
       "\n",
       "    Educational Qualifications  Family size  latitude  longitude  Pin code  \\\n",
       "175                   Graduate            6   12.9551    77.6593    560017   \n",
       "119                   Graduate            3   12.9766    77.5993    560001   \n",
       "29               Post Graduate            4   13.0019    77.5713    560003   \n",
       "51               Post Graduate            2   12.9770    77.5773    560009   \n",
       "276              Post Graduate            3   12.9515    77.4921    560056   \n",
       "220              Post Graduate            1   12.9217    77.5936    560041   \n",
       "342                     School            3   12.9820    77.6256    560008   \n",
       "174                   Graduate            2   12.9551    77.6593    560017   \n",
       "193                   Graduate            2   12.9343    77.6044    560029   \n",
       "61               Post Graduate            3   12.8845    77.6036    560076   \n",
       "\n",
       "    Output   Feedback Unnamed: 12  \n",
       "175    Yes   Positive         Yes  \n",
       "119    Yes   Positive         Yes  \n",
       "29     Yes   Positive         Yes  \n",
       "51     Yes   Positive         Yes  \n",
       "276    Yes   Positive         Yes  \n",
       "220    Yes   Positive         Yes  \n",
       "342    Yes  Negative          Yes  \n",
       "174    Yes   Positive         Yes  \n",
       "193    Yes   Positive         Yes  \n",
       "61     Yes   Positive         Yes  "
      ]
     },
     "execution_count": 10,
     "metadata": {},
     "output_type": "execute_result"
    }
   ],
   "source": [
    "onlinefood_df.sample(10)"
   ]
  },
  {
   "cell_type": "code",
   "execution_count": 20,
   "id": "9a81e78f",
   "metadata": {},
   "outputs": [],
   "source": [
    "rename_col={'Unnamed: 12':'Delivered'}"
   ]
  },
  {
   "cell_type": "code",
   "execution_count": 21,
   "id": "88ec4269",
   "metadata": {},
   "outputs": [],
   "source": [
    "onlinefood_df=onlinefood_df.rename(columns=rename_col)"
   ]
  },
  {
   "cell_type": "code",
   "execution_count": 23,
   "id": "1d0aeb93",
   "metadata": {},
   "outputs": [
    {
     "data": {
      "text/plain": [
       "Age                           285\n",
       "Gender                        285\n",
       "Marital Status                285\n",
       "Occupation                    285\n",
       "Monthly Income                285\n",
       "Educational Qualifications    285\n",
       "Family size                   285\n",
       "latitude                      285\n",
       "longitude                     285\n",
       "Pin code                      285\n",
       "Output                        285\n",
       "Feedback                      285\n",
       "Delivered                     285\n",
       "dtype: int64"
      ]
     },
     "execution_count": 23,
     "metadata": {},
     "output_type": "execute_result"
    }
   ],
   "source": [
    "onlinefood_df.count()"
   ]
  },
  {
   "cell_type": "markdown",
   "id": "cceff382",
   "metadata": {},
   "source": [
    "# ONLINE FOOD ORDER BY STUDENTS ON THE BASIS OF EDUCATION QUALIFICATION"
   ]
  },
  {
   "cell_type": "code",
   "execution_count": 59,
   "id": "e2fad0a0",
   "metadata": {},
   "outputs": [
    {
     "data": {
      "text/plain": [
       "5"
      ]
     },
     "execution_count": 59,
     "metadata": {},
     "output_type": "execute_result"
    }
   ],
   "source": [
    "onlinefood_df['Educational Qualifications'].nunique()"
   ]
  },
  {
   "cell_type": "code",
   "execution_count": null,
   "id": "9524bf11",
   "metadata": {},
   "outputs": [],
   "source": [
    "plt.figure(figsize=(12,3))\n",
    "plt.bar(Educational Qualifications, counts)"
   ]
  },
  {
   "cell_type": "code",
   "execution_count": null,
   "id": "6fbafc1d",
   "metadata": {},
   "outputs": [],
   "source": [
    "x"
   ]
  },
  {
   "cell_type": "code",
   "execution_count": null,
   "id": "22fc4b8f",
   "metadata": {},
   "outputs": [],
   "source": [
    "x.count(\"Post Graduate\")"
   ]
  },
  {
   "cell_type": "code",
   "execution_count": null,
   "id": "9099da2a",
   "metadata": {},
   "outputs": [],
   "source": [
    "x.unique()"
   ]
  },
  {
   "cell_type": "code",
   "execution_count": null,
   "id": "43e07b24",
   "metadata": {},
   "outputs": [],
   "source": [
    "onlinefood_df['Educational Qualifications'].plot(type=\"pie\")"
   ]
  },
  {
   "cell_type": "code",
   "execution_count": null,
   "id": "63f2e0ed",
   "metadata": {},
   "outputs": [],
   "source": [
    "onlinefood_df['Educational Qualifications'].nunique()"
   ]
  },
  {
   "cell_type": "code",
   "execution_count": null,
   "id": "a351d0c1",
   "metadata": {},
   "outputs": [],
   "source": [
    "onlinefood_df['Educational Qualifications'].plot()"
   ]
  },
  {
   "cell_type": "code",
   "execution_count": 29,
   "id": "d9e1f9b2",
   "metadata": {},
   "outputs": [],
   "source": [
    "x = onlinefood_df['Educational Qualifications'].value_counts()"
   ]
  },
  {
   "cell_type": "code",
   "execution_count": 30,
   "id": "7b1a3322",
   "metadata": {},
   "outputs": [
    {
     "data": {
      "text/plain": [
       "Educational Qualifications\n",
       "Graduate         126\n",
       "Post Graduate    125\n",
       "Ph.D              21\n",
       "School            11\n",
       "Uneducated         2\n",
       "Name: count, dtype: int64"
      ]
     },
     "execution_count": 30,
     "metadata": {},
     "output_type": "execute_result"
    }
   ],
   "source": [
    "x"
   ]
  },
  {
   "cell_type": "code",
   "execution_count": 31,
   "id": "531e9bdb",
   "metadata": {},
   "outputs": [
    {
     "data": {
      "text/plain": [
       "pandas.core.series.Series"
      ]
     },
     "execution_count": 31,
     "metadata": {},
     "output_type": "execute_result"
    }
   ],
   "source": [
    "type(x)"
   ]
  },
  {
   "cell_type": "code",
   "execution_count": 32,
   "id": "76ef72ff",
   "metadata": {},
   "outputs": [
    {
     "data": {
      "text/plain": [
       "<Axes: xlabel='Educational Qualifications'>"
      ]
     },
     "execution_count": 32,
     "metadata": {},
     "output_type": "execute_result"
    },
    {
     "data": {
      "image/png": "[encoded data removed]",
      "text/plain": [
       "<Figure size 640x480 with 1 Axes>"
      ]
     },
     "metadata": {},
     "output_type": "display_data"
    }
   ],
   "source": [
    "x.plot()"
   ]
  },
  {
   "cell_type": "code",
   "execution_count": 33,
   "id": "49b523ed",
   "metadata": {},
   "outputs": [
    {
     "data": {
      "image/png": "[encoded data removed]",
      "text/plain": [
       "<Figure size 640x480 with 1 Axes>"
      ]
     },
     "metadata": {},
     "output_type": "display_data"
    }
   ],
   "source": [
    "plt.pie(x,labels=x.index,autopct='%1.1f%%')\n",
    "plt.show()"
   ]
  },
  {
   "cell_type": "code",
   "execution_count": 65,
   "id": "c9054473",
   "metadata": {},
   "outputs": [],
   "source": [
    "#According to the data, 44.2% of the Graduate students order food online which is the highest in education qualification column.\n",
    "#After that PG students with 43.9% of them order food online and the least no of students were uneducation."
   ]
  },
  {
   "cell_type": "markdown",
   "id": "3db98990",
   "metadata": {},
   "source": [
    "# ONLINE FOOD ORDER BY STUDENTS ON THE BASIS OF OCCUPATION"
   ]
  },
  {
   "cell_type": "code",
   "execution_count": 62,
   "id": "020dde1a",
   "metadata": {},
   "outputs": [
    {
     "data": {
      "text/plain": [
       "4"
      ]
     },
     "execution_count": 62,
     "metadata": {},
     "output_type": "execute_result"
    }
   ],
   "source": [
    "onlinefood_df['Occupation'].nunique()"
   ]
  },
  {
   "cell_type": "code",
   "execution_count": 33,
   "id": "c8d62fc5",
   "metadata": {},
   "outputs": [
    {
     "data": {
      "text/plain": [
       "Text(0, 0.5, 'COUNTS')"
      ]
     },
     "execution_count": 33,
     "metadata": {},
     "output_type": "execute_result"
    },
    {
     "data": {
      "image/png": "[encoded data removed]",
      "text/plain": [
       "<Figure size 1000x500 with 1 Axes>"
      ]
     },
     "metadata": {},
     "output_type": "display_data"
    }
   ],
   "source": [
    "plt.figure(figsize=(10,5))\n",
    "sns.countplot(x='Occupation',data = onlinefood_df )\n",
    "plt.title('Online Food Order', fontsize=15)\n",
    "plt.xlabel('OCCUPATION',fontsize=14)\n",
    "plt.ylabel('COUNTS' ,fontsize=14)"
   ]
  },
  {
   "cell_type": "code",
   "execution_count": 43,
   "id": "17f9768a",
   "metadata": {},
   "outputs": [
    {
     "data": {
      "image/png": "[encoded data removed]",
      "text/plain": [
       "<Figure size 1000x500 with 1 Axes>"
      ]
     },
     "metadata": {},
     "output_type": "display_data"
    }
   ],
   "source": [
    "plt.figure(figsize=(10, 5))\n",
    "Marital_Status_counts = onlinefood_df['Marital Status'].value_counts()\n",
    "labels=Marital_Status_counts.index\n",
    "sizes=Marital_Status_counts.values\n",
    "labels=Marital_Status_counts.index\n",
    "sizes=Marital_Status_counts.values\n",
    "plt.pie(sizes,labels=labels,autopct='%1.1f%%')\n",
    "plt.legend(title='Marital Status', bbox_to_anchor=(0.8, 0, 0.5, 1),fontsize='12')\n",
    "plt.show()"
   ]
  },
  {
   "cell_type": "code",
   "execution_count": 64,
   "id": "c35beb60",
   "metadata": {},
   "outputs": [
    {
     "data": {
      "text/plain": [
       "6"
      ]
     },
     "execution_count": 64,
     "metadata": {},
     "output_type": "execute_result"
    }
   ],
   "source": [
    "onlinefood_df['Family size'].nunique()"
   ]
  },
  {
   "cell_type": "code",
   "execution_count": 49,
   "id": "bd4e001b",
   "metadata": {},
   "outputs": [
    {
     "data": {
      "text/plain": [
       "Text(0, 0.5, 'COUNTS')"
      ]
     },
     "execution_count": 49,
     "metadata": {},
     "output_type": "execute_result"
    },
    {
     "data": {
      "image/png": "[encoded data removed]",
      "text/plain": [
       "<Figure size 1200x500 with 1 Axes>"
      ]
     },
     "metadata": {},
     "output_type": "display_data"
    }
   ],
   "source": [
    "plt.figure(figsize=(12,5))\n",
    "sns.countplot(x='Family size',data = onlinefood_df )\n",
    "plt.title('Family size', fontsize=15)\n",
    "plt.xlabel('Family size',fontsize=14)\n",
    "plt.ylabel('COUNTS' ,fontsize=14)"
   ]
  },
  {
   "cell_type": "code",
   "execution_count": 61,
   "id": "70ea57dd",
   "metadata": {},
   "outputs": [
    {
     "data": {
      "text/plain": [
       "2"
      ]
     },
     "execution_count": 61,
     "metadata": {},
     "output_type": "execute_result"
    }
   ],
   "source": [
    "onlinefood_df['Gender'].nunique()"
   ]
  },
  {
   "cell_type": "code",
   "execution_count": 52,
   "id": "3afd2b14",
   "metadata": {},
   "outputs": [
    {
     "data": {
      "text/plain": [
       "Text(0, 0.5, 'COUNTS')"
      ]
     },
     "execution_count": 52,
     "metadata": {},
     "output_type": "execute_result"
    },
    {
     "data": {
      "image/png": "[encoded data removed]",
      "text/plain": [
       "<Figure size 800x400 with 1 Axes>"
      ]
     },
     "metadata": {},
     "output_type": "display_data"
    }
   ],
   "source": [
    "plt.figure(figsize=(8,4))\n",
    "sns.countplot(x='Gender',data = onlinefood_df )\n",
    "plt.title('Gender', fontsize=15)\n",
    "plt.xlabel('Gender',fontsize=10)\n",
    "plt.ylabel('COUNTS' ,fontsize=10)"
   ]
  },
  {
   "cell_type": "code",
   "execution_count": 63,
   "id": "c43af8a3",
   "metadata": {},
   "outputs": [
    {
     "data": {
      "text/plain": [
       "2"
      ]
     },
     "execution_count": 63,
     "metadata": {},
     "output_type": "execute_result"
    }
   ],
   "source": [
    "onlinefood_df['Feedback'].nunique()"
   ]
  },
  {
   "cell_type": "code",
   "execution_count": 58,
   "id": "367a38aa",
   "metadata": {},
   "outputs": [
    {
     "data": {
      "text/plain": [
       "Text(0.5, 1.0, 'Co-ordinates')"
      ]
     },
     "execution_count": 58,
     "metadata": {},
     "output_type": "execute_result"
    },
    {
     "data": {
      "image/png": "[encoded data removed]",
      "text/plain": [
       "<Figure size 1000x400 with 1 Axes>"
      ]
     },
     "metadata": {},
     "output_type": "display_data"
    }
   ],
   "source": [
    "sns.set(rc={'figure.figsize':(10,4)})\n",
    "ax = sns.scatterplot(data=onlinefood_df, x='longitude',y='latitude', hue='Feedback', palette='bright')\n",
    "ax.set_title('Co-ordinates',fontsize='14')"
   ]
  },
  {
   "cell_type": "code",
   "execution_count": null,
   "id": "7c4b5748",
   "metadata": {},
   "outputs": [],
   "source": []
  }
 ],
 "metadata": {
  "kernelspec": {
   "display_name": "Python 3 (ipykernel)",
   "language": "python",
   "name": "python3"
  },
  "language_info": {
   "codemirror_mode": {
    "name": "ipython",
    "version": 3
   },
   "file_extension": ".py",
   "mimetype": "text/x-python",
   "name": "python",
   "nbconvert_exporter": "python",
   "pygments_lexer": "ipython3",
   "version": "3.11.5"
  }
 },
 "nbformat": 4,
 "nbformat_minor": 5
}
